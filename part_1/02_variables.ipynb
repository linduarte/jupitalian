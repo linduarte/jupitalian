{
 "cells": [
  {
   "attachments": {},
   "cell_type": "markdown",
   "metadata": {},
   "source": [
    "# 2. Events and favorites\n",
    "\n",
    "## Variables and string concatenation\n",
    "\n",
    "[Learn Python with Jupyter](https://learnpythonwithjupyter.com/) by [Serena Bonaretti](https://sbonaretti.github.io/)   \n",
    "Narrative license: [CC BY-NC-SA](https://creativecommons.org/licenses/by-nc-sa/2.0/). Code license: [GNU-GPL v3](https://www.gnu.org/licenses/gpl-3.0.en.html) "
   ]
  },
  {
   "attachments": {},
   "cell_type": "markdown",
   "metadata": {},
   "source": [
    "---\n",
    "## Organizing an event\n",
    "\n",
    "- You are organizing an event, and you have created the following registration form for the participants:\n",
    "\n",
    "    ```\n",
    "    Registration form\n",
    "    first_name = __________________\n",
    "    last_name  = __________________\n",
    "    ```"
   ]
  },
  {
   "attachments": {},
   "cell_type": "markdown",
   "metadata": {},
   "source": [
    "- The first participant comes in and you fill out the form:"
   ]
  },
  {
   "cell_type": "code",
   "execution_count": 1,
   "metadata": {},
   "outputs": [],
   "source": [
    "first_name = \"Fernando\"\n",
    "last_name  = \"Pérez\""
   ]
  },
  {
   "attachments": {},
   "cell_type": "markdown",
   "metadata": {},
   "source": [
    "-  Then you print out what you entered in the registration form:"
   ]
  },
  {
   "cell_type": "code",
   "execution_count": 2,
   "metadata": {},
   "outputs": [
    {
     "name": "stdout",
     "output_type": "stream",
     "text": [
      "Fernando\n",
      "Pérez\n"
     ]
    }
   ],
   "source": [
    "print (first_name)\n",
    "print (last_name)"
   ]
  },
  {
   "attachments": {},
   "cell_type": "markdown",
   "metadata": {},
   "source": [
    "---\n",
    "## Favorites"
   ]
  },
  {
   "cell_type": "code",
   "execution_count": 3,
   "metadata": {
    "tags": []
   },
   "outputs": [],
   "source": [
    "name = input(\"What's your name?\")"
   ]
  },
  {
   "cell_type": "code",
   "execution_count": 4,
   "metadata": {},
   "outputs": [],
   "source": [
    "favorite_food = input (\"What is your favorite food?\")"
   ]
  },
  {
   "cell_type": "code",
   "execution_count": 5,
   "metadata": {},
   "outputs": [
    {
     "name": "stdout",
     "output_type": "stream",
     "text": [
      "Hi! My name is Charles\n",
      "My favorite food is filet mignon\n",
      "Charles's favorite food is filet mignon\n"
     ]
    }
   ],
   "source": [
    "print (\"Hi! My name is \" + name)\n",
    "print (\"My favorite food is \" + favorite_food) \n",
    "print (name + \"'s favorite food is \" + favorite_food)"
   ]
  }
 ],
 "metadata": {
  "kernelspec": {
   "display_name": "knl_italy",
   "language": "python",
   "name": "knl_italy"
  },
  "language_info": {
   "codemirror_mode": {
    "name": "ipython",
    "version": 3
   },
   "file_extension": ".py",
   "mimetype": "text/x-python",
   "name": "python",
   "nbconvert_exporter": "python",
   "pygments_lexer": "ipython3",
   "version": "3.12.0"
  },
  "widgets": {
   "application/vnd.jupyter.widget-state+json": {
    "state": {},
    "version_major": 2,
    "version_minor": 0
   }
  }
 },
 "nbformat": 4,
 "nbformat_minor": 4
}
