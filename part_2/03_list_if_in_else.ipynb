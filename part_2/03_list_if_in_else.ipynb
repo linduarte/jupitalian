{
 "cells": [
  {
   "attachments": {},
   "cell_type": "markdown",
   "metadata": {},
   "source": [
    "# 3. In a bookstore\n",
    "\n",
    "## Lists and if... in... / else...\n",
    "\n",
    "[Learn Python with Jupyter](https://learnpythonwithjupyter.com/) by [Serena Bonaretti](https://sbonaretti.github.io/)   \n",
    "Narrative license: [CC BY-NC-SA](https://creativecommons.org/licenses/by-nc-sa/2.0/). Code license: [GNU-GPL v3](https://www.gnu.org/licenses/gpl-3.0.en.html)  \n"
   ]
  },
  {
   "attachments": {},
   "cell_type": "markdown",
   "metadata": {},
   "source": [
    "---"
   ]
  },
  {
   "attachments": {},
   "cell_type": "markdown",
   "metadata": {},
   "source": [
    "- You are the owner of a bookstore. n the programming shelf there are:"
   ]
  },
  {
   "cell_type": "code",
   "execution_count": 1,
   "metadata": {},
   "outputs": [
    {
     "name": "stdout",
     "output_type": "stream",
     "text": [
      "['Learn python', 'Python for all', 'Intro to python']\n"
     ]
    }
   ],
   "source": [
    "programming_books = [\"Learn python\", \"Python for all\",  \"Intro to python\"]\n",
    "print (programming_books)"
   ]
  },
  {
   "attachments": {},
   "cell_type": "markdown",
   "metadata": {},
   "source": [
    "- A new customer comes in, and you ask what book she wants:"
   ]
  },
  {
   "cell_type": "code",
   "execution_count": 4,
   "metadata": {},
   "outputs": [
    {
     "name": "stdout",
     "output_type": "stream",
     "text": [
      "Learn python\n"
     ]
    }
   ],
   "source": [
    "wanted_book = input(\"Hi! What book would you like to buy?\")\n",
    "print (wanted_book)"
   ]
  },
  {
   "attachments": {},
   "cell_type": "markdown",
   "metadata": {},
   "source": [
    "- You check if you have the book, and you reply accordingly:"
   ]
  },
  {
   "cell_type": "code",
   "execution_count": 5,
   "metadata": {},
   "outputs": [
    {
     "name": "stdout",
     "output_type": "stream",
     "text": [
      "Yes, we sell it!\n"
     ]
    }
   ],
   "source": [
    "if wanted_book in programming_books:\n",
    "    print (\"Yes, we sell it!\")\n",
    "else:\n",
    "    print (\"Sorry, we don't sell that book\")"
   ]
  }
 ],
 "metadata": {
  "kernelspec": {
   "display_name": "knl_learn",
   "language": "python",
   "name": "knl_learn"
  },
  "language_info": {
   "codemirror_mode": {
    "name": "ipython",
    "version": 3
   },
   "file_extension": ".py",
   "mimetype": "text/x-python",
   "name": "python",
   "nbconvert_exporter": "python",
   "pygments_lexer": "ipython3",
   "version": "3.11.4"
  },
  "widgets": {
   "application/vnd.jupyter.widget-state+json": {
    "state": {},
    "version_major": 2,
    "version_minor": 0
   }
  }
 },
 "nbformat": 4,
 "nbformat_minor": 4
}
